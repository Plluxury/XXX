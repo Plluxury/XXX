{
  "nbformat": 4,
  "nbformat_minor": 0,
  "metadata": {
    "colab": {
      "provenance": [],
      "authorship_tag": "ABX9TyPNpaOUnrr6bbmvh2zs38vZ",
      "include_colab_link": true
    },
    "kernelspec": {
      "name": "python3",
      "display_name": "Python 3"
    },
    "language_info": {
      "name": "python"
    }
  },
  "cells": [
    {
      "cell_type": "markdown",
      "metadata": {
        "id": "view-in-github",
        "colab_type": "text"
      },
      "source": [
        "<a href=\"https://colab.research.google.com/github/Plluxury/XXX/blob/main/Untitled16.ipynb\" target=\"_parent\"><img src=\"https://colab.research.google.com/assets/colab-badge.svg\" alt=\"Open In Colab\"/></a>"
      ]
    },
    {
      "cell_type": "code",
      "execution_count": null,
      "metadata": {
        "colab": {
          "base_uri": "https://localhost:8080/"
        },
        "id": "sQV7GdPLGzLi",
        "outputId": "7e7ea908-2261-4e0d-c18b-2c965ead20ce"
      },
      "outputs": [
        {
          "output_type": "stream",
          "name": "stdout",
          "text": [
            "Looking in indexes: https://pypi.org/simple, https://us-python.pkg.dev/colab-wheels/public/simple/\n",
            "Requirement already satisfied: geopandas in /usr/local/lib/python3.8/dist-packages (0.12.2)\n",
            "Requirement already satisfied: packaging in /usr/local/lib/python3.8/dist-packages (from geopandas) (21.3)\n",
            "Requirement already satisfied: shapely>=1.7 in /usr/local/lib/python3.8/dist-packages (from geopandas) (1.8.5.post1)\n",
            "Requirement already satisfied: pyproj>=2.6.1.post1 in /usr/local/lib/python3.8/dist-packages (from geopandas) (3.4.1)\n",
            "Requirement already satisfied: pandas>=1.0.0 in /usr/local/lib/python3.8/dist-packages (from geopandas) (1.3.5)\n",
            "Requirement already satisfied: fiona>=1.8 in /usr/local/lib/python3.8/dist-packages (from geopandas) (1.8.22)\n",
            "Requirement already satisfied: setuptools in /usr/local/lib/python3.8/dist-packages (from fiona>=1.8->geopandas) (57.4.0)\n",
            "Requirement already satisfied: cligj>=0.5 in /usr/local/lib/python3.8/dist-packages (from fiona>=1.8->geopandas) (0.7.2)\n",
            "Requirement already satisfied: six>=1.7 in /usr/local/lib/python3.8/dist-packages (from fiona>=1.8->geopandas) (1.15.0)\n",
            "Requirement already satisfied: munch in /usr/local/lib/python3.8/dist-packages (from fiona>=1.8->geopandas) (2.5.0)\n",
            "Requirement already satisfied: attrs>=17 in /usr/local/lib/python3.8/dist-packages (from fiona>=1.8->geopandas) (22.1.0)\n",
            "Requirement already satisfied: click-plugins>=1.0 in /usr/local/lib/python3.8/dist-packages (from fiona>=1.8->geopandas) (1.1.1)\n",
            "Requirement already satisfied: certifi in /usr/local/lib/python3.8/dist-packages (from fiona>=1.8->geopandas) (2022.9.24)\n",
            "Requirement already satisfied: click>=4.0 in /usr/local/lib/python3.8/dist-packages (from fiona>=1.8->geopandas) (7.1.2)\n",
            "Requirement already satisfied: python-dateutil>=2.7.3 in /usr/local/lib/python3.8/dist-packages (from pandas>=1.0.0->geopandas) (2.8.2)\n",
            "Requirement already satisfied: numpy>=1.17.3 in /usr/local/lib/python3.8/dist-packages (from pandas>=1.0.0->geopandas) (1.21.6)\n",
            "Requirement already satisfied: pytz>=2017.3 in /usr/local/lib/python3.8/dist-packages (from pandas>=1.0.0->geopandas) (2022.6)\n",
            "Requirement already satisfied: pyparsing!=3.0.5,>=2.0.2 in /usr/local/lib/python3.8/dist-packages (from packaging->geopandas) (3.0.9)\n"
          ]
        }
      ],
      "source": [
        "!pip install geopandas"
      ]
    },
    {
      "cell_type": "code",
      "source": [
        "import geopandas as gpd\n",
        "import pandas as pd"
      ],
      "metadata": {
        "id": "ATFzyiFAIWSi"
      },
      "execution_count": null,
      "outputs": []
    },
    {
      "cell_type": "code",
      "source": [
        "N_obl = gpd.read_file('magadanskaia-oblast.geojson')"
      ],
      "metadata": {
        "colab": {
          "base_uri": "https://localhost:8080/"
        },
        "id": "owIhUOlOG2F-",
        "outputId": "35ba4d72-70cd-4685-c810-71546de57b7b"
      },
      "execution_count": null,
      "outputs": [
        {
          "output_type": "stream",
          "name": "stderr",
          "text": [
            "WARNING:fiona.ogrext:Skipping field tags: invalid type 5\n",
            "WARNING:fiona.ogrext:Skipping field nearby: invalid type 5\n",
            "WARNING:fiona.ogrext:Skipping field weather: invalid type 5\n",
            "WARNING:fiona.ogrext:Skipping field vehicles: invalid type 5\n",
            "WARNING:fiona.ogrext:Skipping field participants: invalid type 5\n",
            "WARNING:fiona.ogrext:Skipping field road_conditions: invalid type 5\n",
            "WARNING:fiona.ogrext:Skipping field participant_categories: invalid type 5\n"
          ]
        }
      ]
    },
    {
      "cell_type": "code",
      "source": [
        "N_obl.head()"
      ],
      "metadata": {
        "colab": {
          "base_uri": "https://localhost:8080/",
          "height": 548
        },
        "id": "AyLSsZCyJ2Da",
        "outputId": "1da3ec00-842a-4489-f83c-46909b06eb82"
      },
      "execution_count": null,
      "outputs": [
        {
          "output_type": "execute_result",
          "data": {
            "text/plain": [
              "        id                                     light  \\\n",
              "0  2695568  В темное время суток, освещение включено   \n",
              "1  2019481                                   Сумерки   \n",
              "2  2019452                       Светлое время суток   \n",
              "3  2576543                       Светлое время суток   \n",
              "4  2779782                       Светлое время суток   \n",
              "\n",
              "                                    point         region scheme  \\\n",
              "0  {'lat': 59.575684, 'long': 151.297456}  Ольский район    910   \n",
              "1  {'lat': 59.576667, 'long': 151.304719}  Ольский район    090   \n",
              "2  {'lat': 59.755574, 'long': 151.477733}  Ольский район    610   \n",
              "3  {'lat': 59.578351, 'long': 151.291866}  Ольский район    820   \n",
              "4  {'lat': 59.672974, 'long': 150.597174}  Ольский район    610   \n",
              "\n",
              "                           address              category            datetime  \\\n",
              "0           пгт Ола, ул Ленина, 37   Наезд на стоящее ТС 2022-03-12 20:57:00   \n",
              "1          пгт Ола, ул Рабочая, 41  Наезд на препятствие 2018-11-13 16:25:00   \n",
              "2  КОЛЧАКОВСКИЮ КЛЮЧ-КЛЕПКА, 30 км         Опрокидывание 2018-10-14 10:53:00   \n",
              "3                             None     Наезд на пешехода 2021-05-29 17:10:00   \n",
              "4  МАГАДАН-БАЛАГАННОЕ-ТАЛОН, 21 км        Съезд с дороги 2022-11-04 12:30:00   \n",
              "\n",
              "  severity  dead_count  injured_count        parent_region  \\\n",
              "0  Тяжёлый           0              1  Магаданская область   \n",
              "1   Легкий           0              1  Магаданская область   \n",
              "2   Легкий           0              1  Магаданская область   \n",
              "3   Легкий           0              1  Магаданская область   \n",
              "4   Легкий           0              1  Магаданская область   \n",
              "\n",
              "   participants_count                    geometry  \n",
              "0                   2  POINT (151.29746 59.57568)  \n",
              "1                   1  POINT (151.30472 59.57667)  \n",
              "2                   1  POINT (151.47773 59.75557)  \n",
              "3                   3  POINT (151.29187 59.57835)  \n",
              "4                   2  POINT (150.59717 59.67297)  "
            ],
            "text/html": [
              "\n",
              "  <div id=\"df-277734a9-39b1-47f7-ab48-c41b5c5c9267\">\n",
              "    <div class=\"colab-df-container\">\n",
              "      <div>\n",
              "<style scoped>\n",
              "    .dataframe tbody tr th:only-of-type {\n",
              "        vertical-align: middle;\n",
              "    }\n",
              "\n",
              "    .dataframe tbody tr th {\n",
              "        vertical-align: top;\n",
              "    }\n",
              "\n",
              "    .dataframe thead th {\n",
              "        text-align: right;\n",
              "    }\n",
              "</style>\n",
              "<table border=\"1\" class=\"dataframe\">\n",
              "  <thead>\n",
              "    <tr style=\"text-align: right;\">\n",
              "      <th></th>\n",
              "      <th>id</th>\n",
              "      <th>light</th>\n",
              "      <th>point</th>\n",
              "      <th>region</th>\n",
              "      <th>scheme</th>\n",
              "      <th>address</th>\n",
              "      <th>category</th>\n",
              "      <th>datetime</th>\n",
              "      <th>severity</th>\n",
              "      <th>dead_count</th>\n",
              "      <th>injured_count</th>\n",
              "      <th>parent_region</th>\n",
              "      <th>participants_count</th>\n",
              "      <th>geometry</th>\n",
              "    </tr>\n",
              "  </thead>\n",
              "  <tbody>\n",
              "    <tr>\n",
              "      <th>0</th>\n",
              "      <td>2695568</td>\n",
              "      <td>В темное время суток, освещение включено</td>\n",
              "      <td>{'lat': 59.575684, 'long': 151.297456}</td>\n",
              "      <td>Ольский район</td>\n",
              "      <td>910</td>\n",
              "      <td>пгт Ола, ул Ленина, 37</td>\n",
              "      <td>Наезд на стоящее ТС</td>\n",
              "      <td>2022-03-12 20:57:00</td>\n",
              "      <td>Тяжёлый</td>\n",
              "      <td>0</td>\n",
              "      <td>1</td>\n",
              "      <td>Магаданская область</td>\n",
              "      <td>2</td>\n",
              "      <td>POINT (151.29746 59.57568)</td>\n",
              "    </tr>\n",
              "    <tr>\n",
              "      <th>1</th>\n",
              "      <td>2019481</td>\n",
              "      <td>Сумерки</td>\n",
              "      <td>{'lat': 59.576667, 'long': 151.304719}</td>\n",
              "      <td>Ольский район</td>\n",
              "      <td>090</td>\n",
              "      <td>пгт Ола, ул Рабочая, 41</td>\n",
              "      <td>Наезд на препятствие</td>\n",
              "      <td>2018-11-13 16:25:00</td>\n",
              "      <td>Легкий</td>\n",
              "      <td>0</td>\n",
              "      <td>1</td>\n",
              "      <td>Магаданская область</td>\n",
              "      <td>1</td>\n",
              "      <td>POINT (151.30472 59.57667)</td>\n",
              "    </tr>\n",
              "    <tr>\n",
              "      <th>2</th>\n",
              "      <td>2019452</td>\n",
              "      <td>Светлое время суток</td>\n",
              "      <td>{'lat': 59.755574, 'long': 151.477733}</td>\n",
              "      <td>Ольский район</td>\n",
              "      <td>610</td>\n",
              "      <td>КОЛЧАКОВСКИЮ КЛЮЧ-КЛЕПКА, 30 км</td>\n",
              "      <td>Опрокидывание</td>\n",
              "      <td>2018-10-14 10:53:00</td>\n",
              "      <td>Легкий</td>\n",
              "      <td>0</td>\n",
              "      <td>1</td>\n",
              "      <td>Магаданская область</td>\n",
              "      <td>1</td>\n",
              "      <td>POINT (151.47773 59.75557)</td>\n",
              "    </tr>\n",
              "    <tr>\n",
              "      <th>3</th>\n",
              "      <td>2576543</td>\n",
              "      <td>Светлое время суток</td>\n",
              "      <td>{'lat': 59.578351, 'long': 151.291866}</td>\n",
              "      <td>Ольский район</td>\n",
              "      <td>820</td>\n",
              "      <td>None</td>\n",
              "      <td>Наезд на пешехода</td>\n",
              "      <td>2021-05-29 17:10:00</td>\n",
              "      <td>Легкий</td>\n",
              "      <td>0</td>\n",
              "      <td>1</td>\n",
              "      <td>Магаданская область</td>\n",
              "      <td>3</td>\n",
              "      <td>POINT (151.29187 59.57835)</td>\n",
              "    </tr>\n",
              "    <tr>\n",
              "      <th>4</th>\n",
              "      <td>2779782</td>\n",
              "      <td>Светлое время суток</td>\n",
              "      <td>{'lat': 59.672974, 'long': 150.597174}</td>\n",
              "      <td>Ольский район</td>\n",
              "      <td>610</td>\n",
              "      <td>МАГАДАН-БАЛАГАННОЕ-ТАЛОН, 21 км</td>\n",
              "      <td>Съезд с дороги</td>\n",
              "      <td>2022-11-04 12:30:00</td>\n",
              "      <td>Легкий</td>\n",
              "      <td>0</td>\n",
              "      <td>1</td>\n",
              "      <td>Магаданская область</td>\n",
              "      <td>2</td>\n",
              "      <td>POINT (150.59717 59.67297)</td>\n",
              "    </tr>\n",
              "  </tbody>\n",
              "</table>\n",
              "</div>\n",
              "      <button class=\"colab-df-convert\" onclick=\"convertToInteractive('df-277734a9-39b1-47f7-ab48-c41b5c5c9267')\"\n",
              "              title=\"Convert this dataframe to an interactive table.\"\n",
              "              style=\"display:none;\">\n",
              "        \n",
              "  <svg xmlns=\"http://www.w3.org/2000/svg\" height=\"24px\"viewBox=\"0 0 24 24\"\n",
              "       width=\"24px\">\n",
              "    <path d=\"M0 0h24v24H0V0z\" fill=\"none\"/>\n",
              "    <path d=\"M18.56 5.44l.94 2.06.94-2.06 2.06-.94-2.06-.94-.94-2.06-.94 2.06-2.06.94zm-11 1L8.5 8.5l.94-2.06 2.06-.94-2.06-.94L8.5 2.5l-.94 2.06-2.06.94zm10 10l.94 2.06.94-2.06 2.06-.94-2.06-.94-.94-2.06-.94 2.06-2.06.94z\"/><path d=\"M17.41 7.96l-1.37-1.37c-.4-.4-.92-.59-1.43-.59-.52 0-1.04.2-1.43.59L10.3 9.45l-7.72 7.72c-.78.78-.78 2.05 0 2.83L4 21.41c.39.39.9.59 1.41.59.51 0 1.02-.2 1.41-.59l7.78-7.78 2.81-2.81c.8-.78.8-2.07 0-2.86zM5.41 20L4 18.59l7.72-7.72 1.47 1.35L5.41 20z\"/>\n",
              "  </svg>\n",
              "      </button>\n",
              "      \n",
              "  <style>\n",
              "    .colab-df-container {\n",
              "      display:flex;\n",
              "      flex-wrap:wrap;\n",
              "      gap: 12px;\n",
              "    }\n",
              "\n",
              "    .colab-df-convert {\n",
              "      background-color: #E8F0FE;\n",
              "      border: none;\n",
              "      border-radius: 50%;\n",
              "      cursor: pointer;\n",
              "      display: none;\n",
              "      fill: #1967D2;\n",
              "      height: 32px;\n",
              "      padding: 0 0 0 0;\n",
              "      width: 32px;\n",
              "    }\n",
              "\n",
              "    .colab-df-convert:hover {\n",
              "      background-color: #E2EBFA;\n",
              "      box-shadow: 0px 1px 2px rgba(60, 64, 67, 0.3), 0px 1px 3px 1px rgba(60, 64, 67, 0.15);\n",
              "      fill: #174EA6;\n",
              "    }\n",
              "\n",
              "    [theme=dark] .colab-df-convert {\n",
              "      background-color: #3B4455;\n",
              "      fill: #D2E3FC;\n",
              "    }\n",
              "\n",
              "    [theme=dark] .colab-df-convert:hover {\n",
              "      background-color: #434B5C;\n",
              "      box-shadow: 0px 1px 3px 1px rgba(0, 0, 0, 0.15);\n",
              "      filter: drop-shadow(0px 1px 2px rgba(0, 0, 0, 0.3));\n",
              "      fill: #FFFFFF;\n",
              "    }\n",
              "  </style>\n",
              "\n",
              "      <script>\n",
              "        const buttonEl =\n",
              "          document.querySelector('#df-277734a9-39b1-47f7-ab48-c41b5c5c9267 button.colab-df-convert');\n",
              "        buttonEl.style.display =\n",
              "          google.colab.kernel.accessAllowed ? 'block' : 'none';\n",
              "\n",
              "        async function convertToInteractive(key) {\n",
              "          const element = document.querySelector('#df-277734a9-39b1-47f7-ab48-c41b5c5c9267');\n",
              "          const dataTable =\n",
              "            await google.colab.kernel.invokeFunction('convertToInteractive',\n",
              "                                                     [key], {});\n",
              "          if (!dataTable) return;\n",
              "\n",
              "          const docLinkHtml = 'Like what you see? Visit the ' +\n",
              "            '<a target=\"_blank\" href=https://colab.research.google.com/notebooks/data_table.ipynb>data table notebook</a>'\n",
              "            + ' to learn more about interactive tables.';\n",
              "          element.innerHTML = '';\n",
              "          dataTable['output_type'] = 'display_data';\n",
              "          await google.colab.output.renderOutput(dataTable, element);\n",
              "          const docLink = document.createElement('div');\n",
              "          docLink.innerHTML = docLinkHtml;\n",
              "          element.appendChild(docLink);\n",
              "        }\n",
              "      </script>\n",
              "    </div>\n",
              "  </div>\n",
              "  "
            ]
          },
          "metadata": {},
          "execution_count": 4
        }
      ]
    },
    {
      "cell_type": "code",
      "source": [
        "N_obl.light.unique()"
      ],
      "metadata": {
        "colab": {
          "base_uri": "https://localhost:8080/"
        },
        "id": "aE-RQ9BDLTpg",
        "outputId": "e130f325-4b93-48eb-a5f4-d8a8918fa45f"
      },
      "execution_count": null,
      "outputs": [
        {
          "output_type": "execute_result",
          "data": {
            "text/plain": [
              "array(['В темное время суток, освещение включено', 'Сумерки',\n",
              "       'Светлое время суток',\n",
              "       'В темное время суток, освещение отсутствует',\n",
              "       'В темное время суток, освещение не включено', 'Не установлено'],\n",
              "      dtype=object)"
            ]
          },
          "metadata": {},
          "execution_count": 5
        }
      ]
    },
    {
      "cell_type": "code",
      "source": [
        "N_obl = N_obl.replace({'light' : {'В темное время суток, освещение включено' : 1, 'Сумерки' : 2, 'Светлое время суток': 3, 'В темное время суток, освещение отсутствует': 4,\n",
        "                              'В темное время суток, освещение не включено': 5, 'Не установлено':6}})\n"
      ],
      "metadata": {
        "id": "H7V3LjbNLhtx"
      },
      "execution_count": null,
      "outputs": []
    },
    {
      "cell_type": "code",
      "source": [
        "N_obl.category.unique()"
      ],
      "metadata": {
        "colab": {
          "base_uri": "https://localhost:8080/"
        },
        "id": "IefWEhN4PXeY",
        "outputId": "6fd7afa1-a77e-4d7a-ddab-5fdd1c3496b5"
      },
      "execution_count": null,
      "outputs": [
        {
          "output_type": "execute_result",
          "data": {
            "text/plain": [
              "array(['Наезд на стоящее ТС', 'Наезд на препятствие', 'Опрокидывание',\n",
              "       'Наезд на пешехода', 'Съезд с дороги', 'Столкновение',\n",
              "       'Иной вид ДТП',\n",
              "       'Наезд на лицо, не являющееся участником дорожного движения, осуществляющее какую-либо другую деятельность',\n",
              "       'Падение пассажира',\n",
              "       'Наезд на лицо, не являющееся участником дорожного движения, осуществляющее производство работ',\n",
              "       'Наезд на велосипедиста', 'Отбрасывание предмета',\n",
              "       'Наезд на внезапно возникшее препятствие', 'Наезд на животное',\n",
              "       'Наезд на лицо, не являющееся участником дорожного движения, осуществляющее несение службы'],\n",
              "      dtype=object)"
            ]
          },
          "metadata": {},
          "execution_count": 7
        }
      ]
    },
    {
      "cell_type": "code",
      "source": [
        "N_obl = N_obl.replace({'category' : {'Наезд на стоящее ТС' : 1, 'Наезд на препятствие' : 2, 'Опрокидывание': 3, 'Наезд на пешехода': 4,\n",
        "                              'Съезд с дороги': 5, 'Столкновение':6, 'Иной вид ДТП': 7 , \n",
        "                              'Наезд на лицо, не являющееся участником дорожного движения, осуществляющее какую-либо другую деятельность': 8,\n",
        "                              'Падение пассажира': 9, 'Наезд на лицо, не являющееся участником дорожного движения, осуществляющее производство работ':10,\n",
        "                               'Наезд на велосипедиста':11, 'Отбрасывание предмета':12, 'Наезд на внезапно возникшее препятствие':13,\n",
        "                               'Наезд на животное':14, 'Наезд на лицо, не являющееся участником дорожного движения, осуществляющее несение службы':15}})"
      ],
      "metadata": {
        "id": "dqhDnam5PkCa"
      },
      "execution_count": null,
      "outputs": []
    },
    {
      "cell_type": "code",
      "source": [
        "N_obl.region.unique()"
      ],
      "metadata": {
        "colab": {
          "base_uri": "https://localhost:8080/"
        },
        "id": "mXkZ5NUeQjiS",
        "outputId": "cc527972-4ed7-426d-fe73-f211b39b1a97"
      },
      "execution_count": null,
      "outputs": [
        {
          "output_type": "execute_result",
          "data": {
            "text/plain": [
              "array(['Ольский район', 'Ягоднинский район', 'Тенькинский район',\n",
              "       'Сусуманский район', 'Среднекамский район',\n",
              "       'Северо-Эвенский район', 'Омсуканский район', 'Хасынский район',\n",
              "       'Магадан'], dtype=object)"
            ]
          },
          "metadata": {},
          "execution_count": 9
        }
      ]
    },
    {
      "cell_type": "code",
      "source": [
        "N_obl = N_obl.replace({'region' : {'Ольский район' : 1, 'Ягоднинский район' : 2, 'Тенькинский район': 3, 'Сусуманский район': 4,\n",
        "                              'Среднекамский район': 5, 'Омсуканский район':6, 'Хасынский район': 7 , 'Магадан': 8, 'Северо-Эвенский район':9}})"
      ],
      "metadata": {
        "id": "no7zTrXKQlla"
      },
      "execution_count": null,
      "outputs": []
    },
    {
      "cell_type": "code",
      "source": [
        "N_obl.severity.unique()"
      ],
      "metadata": {
        "colab": {
          "base_uri": "https://localhost:8080/"
        },
        "id": "s1oMfWwBQZth",
        "outputId": "a98af475-4dbf-4ef0-d99e-5d4d8d48bb3e"
      },
      "execution_count": null,
      "outputs": [
        {
          "output_type": "execute_result",
          "data": {
            "text/plain": [
              "array(['Тяжёлый', 'Легкий', 'С погибшими'], dtype=object)"
            ]
          },
          "metadata": {},
          "execution_count": 11
        }
      ]
    },
    {
      "cell_type": "code",
      "source": [
        "N_obl = N_obl.replace({'severity' : {'Тяжёлый' : 1, 'Легкий' : 2, 'С погибшими': 3}})"
      ],
      "metadata": {
        "id": "9fjLGxbYQbG7"
      },
      "execution_count": null,
      "outputs": []
    },
    {
      "cell_type": "code",
      "source": [
        "N_obl.head()"
      ],
      "metadata": {
        "colab": {
          "base_uri": "https://localhost:8080/",
          "height": 531
        },
        "id": "7K7j7t0EQ49L",
        "outputId": "5baf40f6-059e-4b51-d057-d7151e79d884"
      },
      "execution_count": null,
      "outputs": [
        {
          "output_type": "execute_result",
          "data": {
            "text/plain": [
              "        id  light                                   point region scheme  \\\n",
              "0  2695568      1  {'lat': 59.575684, 'long': 151.297456}      1    910   \n",
              "1  2019481      2  {'lat': 59.576667, 'long': 151.304719}      1    090   \n",
              "2  2019452      3  {'lat': 59.755574, 'long': 151.477733}      1    610   \n",
              "3  2576543      3  {'lat': 59.578351, 'long': 151.291866}      1    820   \n",
              "4  2779782      3  {'lat': 59.672974, 'long': 150.597174}      1    610   \n",
              "\n",
              "                           address  category            datetime  severity  \\\n",
              "0           пгт Ола, ул Ленина, 37         1 2022-03-12 20:57:00         1   \n",
              "1          пгт Ола, ул Рабочая, 41         2 2018-11-13 16:25:00         2   \n",
              "2  КОЛЧАКОВСКИЮ КЛЮЧ-КЛЕПКА, 30 км         3 2018-10-14 10:53:00         2   \n",
              "3                             None         4 2021-05-29 17:10:00         2   \n",
              "4  МАГАДАН-БАЛАГАННОЕ-ТАЛОН, 21 км         5 2022-11-04 12:30:00         2   \n",
              "\n",
              "   dead_count  injured_count        parent_region  participants_count  \\\n",
              "0           0              1  Магаданская область                   2   \n",
              "1           0              1  Магаданская область                   1   \n",
              "2           0              1  Магаданская область                   1   \n",
              "3           0              1  Магаданская область                   3   \n",
              "4           0              1  Магаданская область                   2   \n",
              "\n",
              "                     geometry  \n",
              "0  POINT (151.29746 59.57568)  \n",
              "1  POINT (151.30472 59.57667)  \n",
              "2  POINT (151.47773 59.75557)  \n",
              "3  POINT (151.29187 59.57835)  \n",
              "4  POINT (150.59717 59.67297)  "
            ],
            "text/html": [
              "\n",
              "  <div id=\"df-7ec39d5b-b550-46b5-bdb9-4cd9f726d0ef\">\n",
              "    <div class=\"colab-df-container\">\n",
              "      <div>\n",
              "<style scoped>\n",
              "    .dataframe tbody tr th:only-of-type {\n",
              "        vertical-align: middle;\n",
              "    }\n",
              "\n",
              "    .dataframe tbody tr th {\n",
              "        vertical-align: top;\n",
              "    }\n",
              "\n",
              "    .dataframe thead th {\n",
              "        text-align: right;\n",
              "    }\n",
              "</style>\n",
              "<table border=\"1\" class=\"dataframe\">\n",
              "  <thead>\n",
              "    <tr style=\"text-align: right;\">\n",
              "      <th></th>\n",
              "      <th>id</th>\n",
              "      <th>light</th>\n",
              "      <th>point</th>\n",
              "      <th>region</th>\n",
              "      <th>scheme</th>\n",
              "      <th>address</th>\n",
              "      <th>category</th>\n",
              "      <th>datetime</th>\n",
              "      <th>severity</th>\n",
              "      <th>dead_count</th>\n",
              "      <th>injured_count</th>\n",
              "      <th>parent_region</th>\n",
              "      <th>participants_count</th>\n",
              "      <th>geometry</th>\n",
              "    </tr>\n",
              "  </thead>\n",
              "  <tbody>\n",
              "    <tr>\n",
              "      <th>0</th>\n",
              "      <td>2695568</td>\n",
              "      <td>1</td>\n",
              "      <td>{'lat': 59.575684, 'long': 151.297456}</td>\n",
              "      <td>1</td>\n",
              "      <td>910</td>\n",
              "      <td>пгт Ола, ул Ленина, 37</td>\n",
              "      <td>1</td>\n",
              "      <td>2022-03-12 20:57:00</td>\n",
              "      <td>1</td>\n",
              "      <td>0</td>\n",
              "      <td>1</td>\n",
              "      <td>Магаданская область</td>\n",
              "      <td>2</td>\n",
              "      <td>POINT (151.29746 59.57568)</td>\n",
              "    </tr>\n",
              "    <tr>\n",
              "      <th>1</th>\n",
              "      <td>2019481</td>\n",
              "      <td>2</td>\n",
              "      <td>{'lat': 59.576667, 'long': 151.304719}</td>\n",
              "      <td>1</td>\n",
              "      <td>090</td>\n",
              "      <td>пгт Ола, ул Рабочая, 41</td>\n",
              "      <td>2</td>\n",
              "      <td>2018-11-13 16:25:00</td>\n",
              "      <td>2</td>\n",
              "      <td>0</td>\n",
              "      <td>1</td>\n",
              "      <td>Магаданская область</td>\n",
              "      <td>1</td>\n",
              "      <td>POINT (151.30472 59.57667)</td>\n",
              "    </tr>\n",
              "    <tr>\n",
              "      <th>2</th>\n",
              "      <td>2019452</td>\n",
              "      <td>3</td>\n",
              "      <td>{'lat': 59.755574, 'long': 151.477733}</td>\n",
              "      <td>1</td>\n",
              "      <td>610</td>\n",
              "      <td>КОЛЧАКОВСКИЮ КЛЮЧ-КЛЕПКА, 30 км</td>\n",
              "      <td>3</td>\n",
              "      <td>2018-10-14 10:53:00</td>\n",
              "      <td>2</td>\n",
              "      <td>0</td>\n",
              "      <td>1</td>\n",
              "      <td>Магаданская область</td>\n",
              "      <td>1</td>\n",
              "      <td>POINT (151.47773 59.75557)</td>\n",
              "    </tr>\n",
              "    <tr>\n",
              "      <th>3</th>\n",
              "      <td>2576543</td>\n",
              "      <td>3</td>\n",
              "      <td>{'lat': 59.578351, 'long': 151.291866}</td>\n",
              "      <td>1</td>\n",
              "      <td>820</td>\n",
              "      <td>None</td>\n",
              "      <td>4</td>\n",
              "      <td>2021-05-29 17:10:00</td>\n",
              "      <td>2</td>\n",
              "      <td>0</td>\n",
              "      <td>1</td>\n",
              "      <td>Магаданская область</td>\n",
              "      <td>3</td>\n",
              "      <td>POINT (151.29187 59.57835)</td>\n",
              "    </tr>\n",
              "    <tr>\n",
              "      <th>4</th>\n",
              "      <td>2779782</td>\n",
              "      <td>3</td>\n",
              "      <td>{'lat': 59.672974, 'long': 150.597174}</td>\n",
              "      <td>1</td>\n",
              "      <td>610</td>\n",
              "      <td>МАГАДАН-БАЛАГАННОЕ-ТАЛОН, 21 км</td>\n",
              "      <td>5</td>\n",
              "      <td>2022-11-04 12:30:00</td>\n",
              "      <td>2</td>\n",
              "      <td>0</td>\n",
              "      <td>1</td>\n",
              "      <td>Магаданская область</td>\n",
              "      <td>2</td>\n",
              "      <td>POINT (150.59717 59.67297)</td>\n",
              "    </tr>\n",
              "  </tbody>\n",
              "</table>\n",
              "</div>\n",
              "      <button class=\"colab-df-convert\" onclick=\"convertToInteractive('df-7ec39d5b-b550-46b5-bdb9-4cd9f726d0ef')\"\n",
              "              title=\"Convert this dataframe to an interactive table.\"\n",
              "              style=\"display:none;\">\n",
              "        \n",
              "  <svg xmlns=\"http://www.w3.org/2000/svg\" height=\"24px\"viewBox=\"0 0 24 24\"\n",
              "       width=\"24px\">\n",
              "    <path d=\"M0 0h24v24H0V0z\" fill=\"none\"/>\n",
              "    <path d=\"M18.56 5.44l.94 2.06.94-2.06 2.06-.94-2.06-.94-.94-2.06-.94 2.06-2.06.94zm-11 1L8.5 8.5l.94-2.06 2.06-.94-2.06-.94L8.5 2.5l-.94 2.06-2.06.94zm10 10l.94 2.06.94-2.06 2.06-.94-2.06-.94-.94-2.06-.94 2.06-2.06.94z\"/><path d=\"M17.41 7.96l-1.37-1.37c-.4-.4-.92-.59-1.43-.59-.52 0-1.04.2-1.43.59L10.3 9.45l-7.72 7.72c-.78.78-.78 2.05 0 2.83L4 21.41c.39.39.9.59 1.41.59.51 0 1.02-.2 1.41-.59l7.78-7.78 2.81-2.81c.8-.78.8-2.07 0-2.86zM5.41 20L4 18.59l7.72-7.72 1.47 1.35L5.41 20z\"/>\n",
              "  </svg>\n",
              "      </button>\n",
              "      \n",
              "  <style>\n",
              "    .colab-df-container {\n",
              "      display:flex;\n",
              "      flex-wrap:wrap;\n",
              "      gap: 12px;\n",
              "    }\n",
              "\n",
              "    .colab-df-convert {\n",
              "      background-color: #E8F0FE;\n",
              "      border: none;\n",
              "      border-radius: 50%;\n",
              "      cursor: pointer;\n",
              "      display: none;\n",
              "      fill: #1967D2;\n",
              "      height: 32px;\n",
              "      padding: 0 0 0 0;\n",
              "      width: 32px;\n",
              "    }\n",
              "\n",
              "    .colab-df-convert:hover {\n",
              "      background-color: #E2EBFA;\n",
              "      box-shadow: 0px 1px 2px rgba(60, 64, 67, 0.3), 0px 1px 3px 1px rgba(60, 64, 67, 0.15);\n",
              "      fill: #174EA6;\n",
              "    }\n",
              "\n",
              "    [theme=dark] .colab-df-convert {\n",
              "      background-color: #3B4455;\n",
              "      fill: #D2E3FC;\n",
              "    }\n",
              "\n",
              "    [theme=dark] .colab-df-convert:hover {\n",
              "      background-color: #434B5C;\n",
              "      box-shadow: 0px 1px 3px 1px rgba(0, 0, 0, 0.15);\n",
              "      filter: drop-shadow(0px 1px 2px rgba(0, 0, 0, 0.3));\n",
              "      fill: #FFFFFF;\n",
              "    }\n",
              "  </style>\n",
              "\n",
              "      <script>\n",
              "        const buttonEl =\n",
              "          document.querySelector('#df-7ec39d5b-b550-46b5-bdb9-4cd9f726d0ef button.colab-df-convert');\n",
              "        buttonEl.style.display =\n",
              "          google.colab.kernel.accessAllowed ? 'block' : 'none';\n",
              "\n",
              "        async function convertToInteractive(key) {\n",
              "          const element = document.querySelector('#df-7ec39d5b-b550-46b5-bdb9-4cd9f726d0ef');\n",
              "          const dataTable =\n",
              "            await google.colab.kernel.invokeFunction('convertToInteractive',\n",
              "                                                     [key], {});\n",
              "          if (!dataTable) return;\n",
              "\n",
              "          const docLinkHtml = 'Like what you see? Visit the ' +\n",
              "            '<a target=\"_blank\" href=https://colab.research.google.com/notebooks/data_table.ipynb>data table notebook</a>'\n",
              "            + ' to learn more about interactive tables.';\n",
              "          element.innerHTML = '';\n",
              "          dataTable['output_type'] = 'display_data';\n",
              "          await google.colab.output.renderOutput(dataTable, element);\n",
              "          const docLink = document.createElement('div');\n",
              "          docLink.innerHTML = docLinkHtml;\n",
              "          element.appendChild(docLink);\n",
              "        }\n",
              "      </script>\n",
              "    </div>\n",
              "  </div>\n",
              "  "
            ]
          },
          "metadata": {},
          "execution_count": 16
        }
      ]
    },
    {
      "cell_type": "code",
      "source": [
        "N_obl = N_obl.drop('datetime', axis='columns')\n",
        "N_obl = N_obl.drop('geometry', axis='columns')\n",
        "N_obl = N_obl.drop('scheme', axis='columns')\n",
        "N_obl = N_obl.drop('address', axis='columns')\n",
        "N_obl = N_obl.drop('parent_region', axis='columns')\n",
        "N_obl.head()"
      ],
      "metadata": {
        "colab": {
          "base_uri": "https://localhost:8080/",
          "height": 531
        },
        "id": "MkpQI9OPTV7q",
        "outputId": "5c6140a4-55de-43e2-9938-56b20d0021bb"
      },
      "execution_count": null,
      "outputs": [
        {
          "output_type": "execute_result",
          "data": {
            "text/plain": [
              "        id  light                                   point  region  category  \\\n",
              "0  2695568      1  {'lat': 59.575684, 'long': 151.297456}       1         1   \n",
              "1  2019481      2  {'lat': 59.576667, 'long': 151.304719}       1         2   \n",
              "2  2019452      3  {'lat': 59.755574, 'long': 151.477733}       1         3   \n",
              "3  2576543      3  {'lat': 59.578351, 'long': 151.291866}       1         4   \n",
              "4  2779782      3  {'lat': 59.672974, 'long': 150.597174}       1         5   \n",
              "\n",
              "   severity  dead_count  injured_count  participants_count  \n",
              "0         1           0              1                   2  \n",
              "1         2           0              1                   1  \n",
              "2         2           0              1                   1  \n",
              "3         2           0              1                   3  \n",
              "4         2           0              1                   2  "
            ],
            "text/html": [
              "\n",
              "  <div id=\"df-b8fa7eff-ab92-4ddc-b3d9-8c632f05c461\">\n",
              "    <div class=\"colab-df-container\">\n",
              "      <div>\n",
              "<style scoped>\n",
              "    .dataframe tbody tr th:only-of-type {\n",
              "        vertical-align: middle;\n",
              "    }\n",
              "\n",
              "    .dataframe tbody tr th {\n",
              "        vertical-align: top;\n",
              "    }\n",
              "\n",
              "    .dataframe thead th {\n",
              "        text-align: right;\n",
              "    }\n",
              "</style>\n",
              "<table border=\"1\" class=\"dataframe\">\n",
              "  <thead>\n",
              "    <tr style=\"text-align: right;\">\n",
              "      <th></th>\n",
              "      <th>id</th>\n",
              "      <th>light</th>\n",
              "      <th>point</th>\n",
              "      <th>region</th>\n",
              "      <th>category</th>\n",
              "      <th>severity</th>\n",
              "      <th>dead_count</th>\n",
              "      <th>injured_count</th>\n",
              "      <th>participants_count</th>\n",
              "    </tr>\n",
              "  </thead>\n",
              "  <tbody>\n",
              "    <tr>\n",
              "      <th>0</th>\n",
              "      <td>2695568</td>\n",
              "      <td>1</td>\n",
              "      <td>{'lat': 59.575684, 'long': 151.297456}</td>\n",
              "      <td>1</td>\n",
              "      <td>1</td>\n",
              "      <td>1</td>\n",
              "      <td>0</td>\n",
              "      <td>1</td>\n",
              "      <td>2</td>\n",
              "    </tr>\n",
              "    <tr>\n",
              "      <th>1</th>\n",
              "      <td>2019481</td>\n",
              "      <td>2</td>\n",
              "      <td>{'lat': 59.576667, 'long': 151.304719}</td>\n",
              "      <td>1</td>\n",
              "      <td>2</td>\n",
              "      <td>2</td>\n",
              "      <td>0</td>\n",
              "      <td>1</td>\n",
              "      <td>1</td>\n",
              "    </tr>\n",
              "    <tr>\n",
              "      <th>2</th>\n",
              "      <td>2019452</td>\n",
              "      <td>3</td>\n",
              "      <td>{'lat': 59.755574, 'long': 151.477733}</td>\n",
              "      <td>1</td>\n",
              "      <td>3</td>\n",
              "      <td>2</td>\n",
              "      <td>0</td>\n",
              "      <td>1</td>\n",
              "      <td>1</td>\n",
              "    </tr>\n",
              "    <tr>\n",
              "      <th>3</th>\n",
              "      <td>2576543</td>\n",
              "      <td>3</td>\n",
              "      <td>{'lat': 59.578351, 'long': 151.291866}</td>\n",
              "      <td>1</td>\n",
              "      <td>4</td>\n",
              "      <td>2</td>\n",
              "      <td>0</td>\n",
              "      <td>1</td>\n",
              "      <td>3</td>\n",
              "    </tr>\n",
              "    <tr>\n",
              "      <th>4</th>\n",
              "      <td>2779782</td>\n",
              "      <td>3</td>\n",
              "      <td>{'lat': 59.672974, 'long': 150.597174}</td>\n",
              "      <td>1</td>\n",
              "      <td>5</td>\n",
              "      <td>2</td>\n",
              "      <td>0</td>\n",
              "      <td>1</td>\n",
              "      <td>2</td>\n",
              "    </tr>\n",
              "  </tbody>\n",
              "</table>\n",
              "</div>\n",
              "      <button class=\"colab-df-convert\" onclick=\"convertToInteractive('df-b8fa7eff-ab92-4ddc-b3d9-8c632f05c461')\"\n",
              "              title=\"Convert this dataframe to an interactive table.\"\n",
              "              style=\"display:none;\">\n",
              "        \n",
              "  <svg xmlns=\"http://www.w3.org/2000/svg\" height=\"24px\"viewBox=\"0 0 24 24\"\n",
              "       width=\"24px\">\n",
              "    <path d=\"M0 0h24v24H0V0z\" fill=\"none\"/>\n",
              "    <path d=\"M18.56 5.44l.94 2.06.94-2.06 2.06-.94-2.06-.94-.94-2.06-.94 2.06-2.06.94zm-11 1L8.5 8.5l.94-2.06 2.06-.94-2.06-.94L8.5 2.5l-.94 2.06-2.06.94zm10 10l.94 2.06.94-2.06 2.06-.94-2.06-.94-.94-2.06-.94 2.06-2.06.94z\"/><path d=\"M17.41 7.96l-1.37-1.37c-.4-.4-.92-.59-1.43-.59-.52 0-1.04.2-1.43.59L10.3 9.45l-7.72 7.72c-.78.78-.78 2.05 0 2.83L4 21.41c.39.39.9.59 1.41.59.51 0 1.02-.2 1.41-.59l7.78-7.78 2.81-2.81c.8-.78.8-2.07 0-2.86zM5.41 20L4 18.59l7.72-7.72 1.47 1.35L5.41 20z\"/>\n",
              "  </svg>\n",
              "      </button>\n",
              "      \n",
              "  <style>\n",
              "    .colab-df-container {\n",
              "      display:flex;\n",
              "      flex-wrap:wrap;\n",
              "      gap: 12px;\n",
              "    }\n",
              "\n",
              "    .colab-df-convert {\n",
              "      background-color: #E8F0FE;\n",
              "      border: none;\n",
              "      border-radius: 50%;\n",
              "      cursor: pointer;\n",
              "      display: none;\n",
              "      fill: #1967D2;\n",
              "      height: 32px;\n",
              "      padding: 0 0 0 0;\n",
              "      width: 32px;\n",
              "    }\n",
              "\n",
              "    .colab-df-convert:hover {\n",
              "      background-color: #E2EBFA;\n",
              "      box-shadow: 0px 1px 2px rgba(60, 64, 67, 0.3), 0px 1px 3px 1px rgba(60, 64, 67, 0.15);\n",
              "      fill: #174EA6;\n",
              "    }\n",
              "\n",
              "    [theme=dark] .colab-df-convert {\n",
              "      background-color: #3B4455;\n",
              "      fill: #D2E3FC;\n",
              "    }\n",
              "\n",
              "    [theme=dark] .colab-df-convert:hover {\n",
              "      background-color: #434B5C;\n",
              "      box-shadow: 0px 1px 3px 1px rgba(0, 0, 0, 0.15);\n",
              "      filter: drop-shadow(0px 1px 2px rgba(0, 0, 0, 0.3));\n",
              "      fill: #FFFFFF;\n",
              "    }\n",
              "  </style>\n",
              "\n",
              "      <script>\n",
              "        const buttonEl =\n",
              "          document.querySelector('#df-b8fa7eff-ab92-4ddc-b3d9-8c632f05c461 button.colab-df-convert');\n",
              "        buttonEl.style.display =\n",
              "          google.colab.kernel.accessAllowed ? 'block' : 'none';\n",
              "\n",
              "        async function convertToInteractive(key) {\n",
              "          const element = document.querySelector('#df-b8fa7eff-ab92-4ddc-b3d9-8c632f05c461');\n",
              "          const dataTable =\n",
              "            await google.colab.kernel.invokeFunction('convertToInteractive',\n",
              "                                                     [key], {});\n",
              "          if (!dataTable) return;\n",
              "\n",
              "          const docLinkHtml = 'Like what you see? Visit the ' +\n",
              "            '<a target=\"_blank\" href=https://colab.research.google.com/notebooks/data_table.ipynb>data table notebook</a>'\n",
              "            + ' to learn more about interactive tables.';\n",
              "          element.innerHTML = '';\n",
              "          dataTable['output_type'] = 'display_data';\n",
              "          await google.colab.output.renderOutput(dataTable, element);\n",
              "          const docLink = document.createElement('div');\n",
              "          docLink.innerHTML = docLinkHtml;\n",
              "          element.appendChild(docLink);\n",
              "        }\n",
              "      </script>\n",
              "    </div>\n",
              "  </div>\n",
              "  "
            ]
          },
          "metadata": {},
          "execution_count": 13
        }
      ]
    },
    {
      "cell_type": "code",
      "source": [
        "Point = N_obl.point.apply(pd.Series)"
      ],
      "metadata": {
        "id": "MWcY3dJyQ6ud"
      },
      "execution_count": null,
      "outputs": []
    },
    {
      "cell_type": "code",
      "source": [
        "new_df = pd.concat([N_obl.reset_index(drop=True),\n",
        "                  Point.reset_index(drop=True)], axis=1,\n",
        "                  ignore_index=True,)"
      ],
      "metadata": {
        "id": "EsMaPU_aTiSx"
      },
      "execution_count": null,
      "outputs": []
    },
    {
      "cell_type": "code",
      "source": [
        "new_df.head()"
      ],
      "metadata": {
        "colab": {
          "base_uri": "https://localhost:8080/",
          "height": 250
        },
        "id": "LhKEnv7XToJs",
        "outputId": "a1a07808-cbc3-441f-bb70-adb22673674f"
      },
      "execution_count": null,
      "outputs": [
        {
          "output_type": "execute_result",
          "data": {
            "text/plain": [
              "        0   1                                       2   3   4   5   6   7   \\\n",
              "0  2695568   1  {'lat': 59.575684, 'long': 151.297456}   1   1   1   0   1   \n",
              "1  2019481   2  {'lat': 59.576667, 'long': 151.304719}   1   2   2   0   1   \n",
              "2  2019452   3  {'lat': 59.755574, 'long': 151.477733}   1   3   2   0   1   \n",
              "3  2576543   3  {'lat': 59.578351, 'long': 151.291866}   1   4   2   0   1   \n",
              "4  2779782   3  {'lat': 59.672974, 'long': 150.597174}   1   5   2   0   1   \n",
              "\n",
              "   8          9           10  \n",
              "0   2  59.575684  151.297456  \n",
              "1   1  59.576667  151.304719  \n",
              "2   1  59.755574  151.477733  \n",
              "3   3  59.578351  151.291866  \n",
              "4   2  59.672974  150.597174  "
            ],
            "text/html": [
              "\n",
              "  <div id=\"df-3f4e49ab-90cf-40a3-b8c2-f9821d26c6cb\">\n",
              "    <div class=\"colab-df-container\">\n",
              "      <div>\n",
              "<style scoped>\n",
              "    .dataframe tbody tr th:only-of-type {\n",
              "        vertical-align: middle;\n",
              "    }\n",
              "\n",
              "    .dataframe tbody tr th {\n",
              "        vertical-align: top;\n",
              "    }\n",
              "\n",
              "    .dataframe thead th {\n",
              "        text-align: right;\n",
              "    }\n",
              "</style>\n",
              "<table border=\"1\" class=\"dataframe\">\n",
              "  <thead>\n",
              "    <tr style=\"text-align: right;\">\n",
              "      <th></th>\n",
              "      <th>0</th>\n",
              "      <th>1</th>\n",
              "      <th>2</th>\n",
              "      <th>3</th>\n",
              "      <th>4</th>\n",
              "      <th>5</th>\n",
              "      <th>6</th>\n",
              "      <th>7</th>\n",
              "      <th>8</th>\n",
              "      <th>9</th>\n",
              "      <th>10</th>\n",
              "    </tr>\n",
              "  </thead>\n",
              "  <tbody>\n",
              "    <tr>\n",
              "      <th>0</th>\n",
              "      <td>2695568</td>\n",
              "      <td>1</td>\n",
              "      <td>{'lat': 59.575684, 'long': 151.297456}</td>\n",
              "      <td>1</td>\n",
              "      <td>1</td>\n",
              "      <td>1</td>\n",
              "      <td>0</td>\n",
              "      <td>1</td>\n",
              "      <td>2</td>\n",
              "      <td>59.575684</td>\n",
              "      <td>151.297456</td>\n",
              "    </tr>\n",
              "    <tr>\n",
              "      <th>1</th>\n",
              "      <td>2019481</td>\n",
              "      <td>2</td>\n",
              "      <td>{'lat': 59.576667, 'long': 151.304719}</td>\n",
              "      <td>1</td>\n",
              "      <td>2</td>\n",
              "      <td>2</td>\n",
              "      <td>0</td>\n",
              "      <td>1</td>\n",
              "      <td>1</td>\n",
              "      <td>59.576667</td>\n",
              "      <td>151.304719</td>\n",
              "    </tr>\n",
              "    <tr>\n",
              "      <th>2</th>\n",
              "      <td>2019452</td>\n",
              "      <td>3</td>\n",
              "      <td>{'lat': 59.755574, 'long': 151.477733}</td>\n",
              "      <td>1</td>\n",
              "      <td>3</td>\n",
              "      <td>2</td>\n",
              "      <td>0</td>\n",
              "      <td>1</td>\n",
              "      <td>1</td>\n",
              "      <td>59.755574</td>\n",
              "      <td>151.477733</td>\n",
              "    </tr>\n",
              "    <tr>\n",
              "      <th>3</th>\n",
              "      <td>2576543</td>\n",
              "      <td>3</td>\n",
              "      <td>{'lat': 59.578351, 'long': 151.291866}</td>\n",
              "      <td>1</td>\n",
              "      <td>4</td>\n",
              "      <td>2</td>\n",
              "      <td>0</td>\n",
              "      <td>1</td>\n",
              "      <td>3</td>\n",
              "      <td>59.578351</td>\n",
              "      <td>151.291866</td>\n",
              "    </tr>\n",
              "    <tr>\n",
              "      <th>4</th>\n",
              "      <td>2779782</td>\n",
              "      <td>3</td>\n",
              "      <td>{'lat': 59.672974, 'long': 150.597174}</td>\n",
              "      <td>1</td>\n",
              "      <td>5</td>\n",
              "      <td>2</td>\n",
              "      <td>0</td>\n",
              "      <td>1</td>\n",
              "      <td>2</td>\n",
              "      <td>59.672974</td>\n",
              "      <td>150.597174</td>\n",
              "    </tr>\n",
              "  </tbody>\n",
              "</table>\n",
              "</div>\n",
              "      <button class=\"colab-df-convert\" onclick=\"convertToInteractive('df-3f4e49ab-90cf-40a3-b8c2-f9821d26c6cb')\"\n",
              "              title=\"Convert this dataframe to an interactive table.\"\n",
              "              style=\"display:none;\">\n",
              "        \n",
              "  <svg xmlns=\"http://www.w3.org/2000/svg\" height=\"24px\"viewBox=\"0 0 24 24\"\n",
              "       width=\"24px\">\n",
              "    <path d=\"M0 0h24v24H0V0z\" fill=\"none\"/>\n",
              "    <path d=\"M18.56 5.44l.94 2.06.94-2.06 2.06-.94-2.06-.94-.94-2.06-.94 2.06-2.06.94zm-11 1L8.5 8.5l.94-2.06 2.06-.94-2.06-.94L8.5 2.5l-.94 2.06-2.06.94zm10 10l.94 2.06.94-2.06 2.06-.94-2.06-.94-.94-2.06-.94 2.06-2.06.94z\"/><path d=\"M17.41 7.96l-1.37-1.37c-.4-.4-.92-.59-1.43-.59-.52 0-1.04.2-1.43.59L10.3 9.45l-7.72 7.72c-.78.78-.78 2.05 0 2.83L4 21.41c.39.39.9.59 1.41.59.51 0 1.02-.2 1.41-.59l7.78-7.78 2.81-2.81c.8-.78.8-2.07 0-2.86zM5.41 20L4 18.59l7.72-7.72 1.47 1.35L5.41 20z\"/>\n",
              "  </svg>\n",
              "      </button>\n",
              "      \n",
              "  <style>\n",
              "    .colab-df-container {\n",
              "      display:flex;\n",
              "      flex-wrap:wrap;\n",
              "      gap: 12px;\n",
              "    }\n",
              "\n",
              "    .colab-df-convert {\n",
              "      background-color: #E8F0FE;\n",
              "      border: none;\n",
              "      border-radius: 50%;\n",
              "      cursor: pointer;\n",
              "      display: none;\n",
              "      fill: #1967D2;\n",
              "      height: 32px;\n",
              "      padding: 0 0 0 0;\n",
              "      width: 32px;\n",
              "    }\n",
              "\n",
              "    .colab-df-convert:hover {\n",
              "      background-color: #E2EBFA;\n",
              "      box-shadow: 0px 1px 2px rgba(60, 64, 67, 0.3), 0px 1px 3px 1px rgba(60, 64, 67, 0.15);\n",
              "      fill: #174EA6;\n",
              "    }\n",
              "\n",
              "    [theme=dark] .colab-df-convert {\n",
              "      background-color: #3B4455;\n",
              "      fill: #D2E3FC;\n",
              "    }\n",
              "\n",
              "    [theme=dark] .colab-df-convert:hover {\n",
              "      background-color: #434B5C;\n",
              "      box-shadow: 0px 1px 3px 1px rgba(0, 0, 0, 0.15);\n",
              "      filter: drop-shadow(0px 1px 2px rgba(0, 0, 0, 0.3));\n",
              "      fill: #FFFFFF;\n",
              "    }\n",
              "  </style>\n",
              "\n",
              "      <script>\n",
              "        const buttonEl =\n",
              "          document.querySelector('#df-3f4e49ab-90cf-40a3-b8c2-f9821d26c6cb button.colab-df-convert');\n",
              "        buttonEl.style.display =\n",
              "          google.colab.kernel.accessAllowed ? 'block' : 'none';\n",
              "\n",
              "        async function convertToInteractive(key) {\n",
              "          const element = document.querySelector('#df-3f4e49ab-90cf-40a3-b8c2-f9821d26c6cb');\n",
              "          const dataTable =\n",
              "            await google.colab.kernel.invokeFunction('convertToInteractive',\n",
              "                                                     [key], {});\n",
              "          if (!dataTable) return;\n",
              "\n",
              "          const docLinkHtml = 'Like what you see? Visit the ' +\n",
              "            '<a target=\"_blank\" href=https://colab.research.google.com/notebooks/data_table.ipynb>data table notebook</a>'\n",
              "            + ' to learn more about interactive tables.';\n",
              "          element.innerHTML = '';\n",
              "          dataTable['output_type'] = 'display_data';\n",
              "          await google.colab.output.renderOutput(dataTable, element);\n",
              "          const docLink = document.createElement('div');\n",
              "          docLink.innerHTML = docLinkHtml;\n",
              "          element.appendChild(docLink);\n",
              "        }\n",
              "      </script>\n",
              "    </div>\n",
              "  </div>\n",
              "  "
            ]
          },
          "metadata": {},
          "execution_count": 17
        }
      ]
    },
    {
      "cell_type": "code",
      "source": [
        "new_df.columns = [\"id\", \"light\", \"point\", \"region\", \"category\",'severity', 'dead_count', 'injured_count','participants_count','lat','long']"
      ],
      "metadata": {
        "id": "GZ0d-k_UToPE"
      },
      "execution_count": null,
      "outputs": []
    },
    {
      "cell_type": "code",
      "source": [
        "new_df.head()"
      ],
      "metadata": {
        "colab": {
          "base_uri": "https://localhost:8080/",
          "height": 531
        },
        "id": "JVyvPRAsVT18",
        "outputId": "5c6c32e7-f202-4651-8e54-68fd4ba0f32a"
      },
      "execution_count": null,
      "outputs": [
        {
          "output_type": "execute_result",
          "data": {
            "text/plain": [
              "        id  light                                   point  region  category  \\\n",
              "0  2695568      1  {'lat': 59.575684, 'long': 151.297456}       1         1   \n",
              "1  2019481      2  {'lat': 59.576667, 'long': 151.304719}       1         2   \n",
              "2  2019452      3  {'lat': 59.755574, 'long': 151.477733}       1         3   \n",
              "3  2576543      3  {'lat': 59.578351, 'long': 151.291866}       1         4   \n",
              "4  2779782      3  {'lat': 59.672974, 'long': 150.597174}       1         5   \n",
              "\n",
              "   severity  dead_count  injured_count  participants_count        lat  \\\n",
              "0         1           0              1                   2  59.575684   \n",
              "1         2           0              1                   1  59.576667   \n",
              "2         2           0              1                   1  59.755574   \n",
              "3         2           0              1                   3  59.578351   \n",
              "4         2           0              1                   2  59.672974   \n",
              "\n",
              "         long  \n",
              "0  151.297456  \n",
              "1  151.304719  \n",
              "2  151.477733  \n",
              "3  151.291866  \n",
              "4  150.597174  "
            ],
            "text/html": [
              "\n",
              "  <div id=\"df-79f9418b-5cb7-49d5-84ae-b59162f3eff2\">\n",
              "    <div class=\"colab-df-container\">\n",
              "      <div>\n",
              "<style scoped>\n",
              "    .dataframe tbody tr th:only-of-type {\n",
              "        vertical-align: middle;\n",
              "    }\n",
              "\n",
              "    .dataframe tbody tr th {\n",
              "        vertical-align: top;\n",
              "    }\n",
              "\n",
              "    .dataframe thead th {\n",
              "        text-align: right;\n",
              "    }\n",
              "</style>\n",
              "<table border=\"1\" class=\"dataframe\">\n",
              "  <thead>\n",
              "    <tr style=\"text-align: right;\">\n",
              "      <th></th>\n",
              "      <th>id</th>\n",
              "      <th>light</th>\n",
              "      <th>point</th>\n",
              "      <th>region</th>\n",
              "      <th>category</th>\n",
              "      <th>severity</th>\n",
              "      <th>dead_count</th>\n",
              "      <th>injured_count</th>\n",
              "      <th>participants_count</th>\n",
              "      <th>lat</th>\n",
              "      <th>long</th>\n",
              "    </tr>\n",
              "  </thead>\n",
              "  <tbody>\n",
              "    <tr>\n",
              "      <th>0</th>\n",
              "      <td>2695568</td>\n",
              "      <td>1</td>\n",
              "      <td>{'lat': 59.575684, 'long': 151.297456}</td>\n",
              "      <td>1</td>\n",
              "      <td>1</td>\n",
              "      <td>1</td>\n",
              "      <td>0</td>\n",
              "      <td>1</td>\n",
              "      <td>2</td>\n",
              "      <td>59.575684</td>\n",
              "      <td>151.297456</td>\n",
              "    </tr>\n",
              "    <tr>\n",
              "      <th>1</th>\n",
              "      <td>2019481</td>\n",
              "      <td>2</td>\n",
              "      <td>{'lat': 59.576667, 'long': 151.304719}</td>\n",
              "      <td>1</td>\n",
              "      <td>2</td>\n",
              "      <td>2</td>\n",
              "      <td>0</td>\n",
              "      <td>1</td>\n",
              "      <td>1</td>\n",
              "      <td>59.576667</td>\n",
              "      <td>151.304719</td>\n",
              "    </tr>\n",
              "    <tr>\n",
              "      <th>2</th>\n",
              "      <td>2019452</td>\n",
              "      <td>3</td>\n",
              "      <td>{'lat': 59.755574, 'long': 151.477733}</td>\n",
              "      <td>1</td>\n",
              "      <td>3</td>\n",
              "      <td>2</td>\n",
              "      <td>0</td>\n",
              "      <td>1</td>\n",
              "      <td>1</td>\n",
              "      <td>59.755574</td>\n",
              "      <td>151.477733</td>\n",
              "    </tr>\n",
              "    <tr>\n",
              "      <th>3</th>\n",
              "      <td>2576543</td>\n",
              "      <td>3</td>\n",
              "      <td>{'lat': 59.578351, 'long': 151.291866}</td>\n",
              "      <td>1</td>\n",
              "      <td>4</td>\n",
              "      <td>2</td>\n",
              "      <td>0</td>\n",
              "      <td>1</td>\n",
              "      <td>3</td>\n",
              "      <td>59.578351</td>\n",
              "      <td>151.291866</td>\n",
              "    </tr>\n",
              "    <tr>\n",
              "      <th>4</th>\n",
              "      <td>2779782</td>\n",
              "      <td>3</td>\n",
              "      <td>{'lat': 59.672974, 'long': 150.597174}</td>\n",
              "      <td>1</td>\n",
              "      <td>5</td>\n",
              "      <td>2</td>\n",
              "      <td>0</td>\n",
              "      <td>1</td>\n",
              "      <td>2</td>\n",
              "      <td>59.672974</td>\n",
              "      <td>150.597174</td>\n",
              "    </tr>\n",
              "  </tbody>\n",
              "</table>\n",
              "</div>\n",
              "      <button class=\"colab-df-convert\" onclick=\"convertToInteractive('df-79f9418b-5cb7-49d5-84ae-b59162f3eff2')\"\n",
              "              title=\"Convert this dataframe to an interactive table.\"\n",
              "              style=\"display:none;\">\n",
              "        \n",
              "  <svg xmlns=\"http://www.w3.org/2000/svg\" height=\"24px\"viewBox=\"0 0 24 24\"\n",
              "       width=\"24px\">\n",
              "    <path d=\"M0 0h24v24H0V0z\" fill=\"none\"/>\n",
              "    <path d=\"M18.56 5.44l.94 2.06.94-2.06 2.06-.94-2.06-.94-.94-2.06-.94 2.06-2.06.94zm-11 1L8.5 8.5l.94-2.06 2.06-.94-2.06-.94L8.5 2.5l-.94 2.06-2.06.94zm10 10l.94 2.06.94-2.06 2.06-.94-2.06-.94-.94-2.06-.94 2.06-2.06.94z\"/><path d=\"M17.41 7.96l-1.37-1.37c-.4-.4-.92-.59-1.43-.59-.52 0-1.04.2-1.43.59L10.3 9.45l-7.72 7.72c-.78.78-.78 2.05 0 2.83L4 21.41c.39.39.9.59 1.41.59.51 0 1.02-.2 1.41-.59l7.78-7.78 2.81-2.81c.8-.78.8-2.07 0-2.86zM5.41 20L4 18.59l7.72-7.72 1.47 1.35L5.41 20z\"/>\n",
              "  </svg>\n",
              "      </button>\n",
              "      \n",
              "  <style>\n",
              "    .colab-df-container {\n",
              "      display:flex;\n",
              "      flex-wrap:wrap;\n",
              "      gap: 12px;\n",
              "    }\n",
              "\n",
              "    .colab-df-convert {\n",
              "      background-color: #E8F0FE;\n",
              "      border: none;\n",
              "      border-radius: 50%;\n",
              "      cursor: pointer;\n",
              "      display: none;\n",
              "      fill: #1967D2;\n",
              "      height: 32px;\n",
              "      padding: 0 0 0 0;\n",
              "      width: 32px;\n",
              "    }\n",
              "\n",
              "    .colab-df-convert:hover {\n",
              "      background-color: #E2EBFA;\n",
              "      box-shadow: 0px 1px 2px rgba(60, 64, 67, 0.3), 0px 1px 3px 1px rgba(60, 64, 67, 0.15);\n",
              "      fill: #174EA6;\n",
              "    }\n",
              "\n",
              "    [theme=dark] .colab-df-convert {\n",
              "      background-color: #3B4455;\n",
              "      fill: #D2E3FC;\n",
              "    }\n",
              "\n",
              "    [theme=dark] .colab-df-convert:hover {\n",
              "      background-color: #434B5C;\n",
              "      box-shadow: 0px 1px 3px 1px rgba(0, 0, 0, 0.15);\n",
              "      filter: drop-shadow(0px 1px 2px rgba(0, 0, 0, 0.3));\n",
              "      fill: #FFFFFF;\n",
              "    }\n",
              "  </style>\n",
              "\n",
              "      <script>\n",
              "        const buttonEl =\n",
              "          document.querySelector('#df-79f9418b-5cb7-49d5-84ae-b59162f3eff2 button.colab-df-convert');\n",
              "        buttonEl.style.display =\n",
              "          google.colab.kernel.accessAllowed ? 'block' : 'none';\n",
              "\n",
              "        async function convertToInteractive(key) {\n",
              "          const element = document.querySelector('#df-79f9418b-5cb7-49d5-84ae-b59162f3eff2');\n",
              "          const dataTable =\n",
              "            await google.colab.kernel.invokeFunction('convertToInteractive',\n",
              "                                                     [key], {});\n",
              "          if (!dataTable) return;\n",
              "\n",
              "          const docLinkHtml = 'Like what you see? Visit the ' +\n",
              "            '<a target=\"_blank\" href=https://colab.research.google.com/notebooks/data_table.ipynb>data table notebook</a>'\n",
              "            + ' to learn more about interactive tables.';\n",
              "          element.innerHTML = '';\n",
              "          dataTable['output_type'] = 'display_data';\n",
              "          await google.colab.output.renderOutput(dataTable, element);\n",
              "          const docLink = document.createElement('div');\n",
              "          docLink.innerHTML = docLinkHtml;\n",
              "          element.appendChild(docLink);\n",
              "        }\n",
              "      </script>\n",
              "    </div>\n",
              "  </div>\n",
              "  "
            ]
          },
          "metadata": {},
          "execution_count": 19
        }
      ]
    },
    {
      "cell_type": "code",
      "source": [
        "new_df = new_df.drop('point',axis='columns')"
      ],
      "metadata": {
        "id": "hwJfDMnLVWrc"
      },
      "execution_count": null,
      "outputs": []
    },
    {
      "cell_type": "code",
      "source": [
        "new_df.head()"
      ],
      "metadata": {
        "colab": {
          "base_uri": "https://localhost:8080/",
          "height": 270
        },
        "id": "mTSofXwCVfSa",
        "outputId": "13940e5d-4729-4acc-efa1-ae789bae511a"
      },
      "execution_count": null,
      "outputs": [
        {
          "output_type": "execute_result",
          "data": {
            "text/plain": [
              "        id  light  region  category  severity  dead_count  injured_count  \\\n",
              "0  2695568      1       1         1         1           0              1   \n",
              "1  2019481      2       1         2         2           0              1   \n",
              "2  2019452      3       1         3         2           0              1   \n",
              "3  2576543      3       1         4         2           0              1   \n",
              "4  2779782      3       1         5         2           0              1   \n",
              "\n",
              "   participants_count        lat        long  \n",
              "0                   2  59.575684  151.297456  \n",
              "1                   1  59.576667  151.304719  \n",
              "2                   1  59.755574  151.477733  \n",
              "3                   3  59.578351  151.291866  \n",
              "4                   2  59.672974  150.597174  "
            ],
            "text/html": [
              "\n",
              "  <div id=\"df-4c2998ab-0d65-42ea-8bf6-e26cb3b51af4\">\n",
              "    <div class=\"colab-df-container\">\n",
              "      <div>\n",
              "<style scoped>\n",
              "    .dataframe tbody tr th:only-of-type {\n",
              "        vertical-align: middle;\n",
              "    }\n",
              "\n",
              "    .dataframe tbody tr th {\n",
              "        vertical-align: top;\n",
              "    }\n",
              "\n",
              "    .dataframe thead th {\n",
              "        text-align: right;\n",
              "    }\n",
              "</style>\n",
              "<table border=\"1\" class=\"dataframe\">\n",
              "  <thead>\n",
              "    <tr style=\"text-align: right;\">\n",
              "      <th></th>\n",
              "      <th>id</th>\n",
              "      <th>light</th>\n",
              "      <th>region</th>\n",
              "      <th>category</th>\n",
              "      <th>severity</th>\n",
              "      <th>dead_count</th>\n",
              "      <th>injured_count</th>\n",
              "      <th>participants_count</th>\n",
              "      <th>lat</th>\n",
              "      <th>long</th>\n",
              "    </tr>\n",
              "  </thead>\n",
              "  <tbody>\n",
              "    <tr>\n",
              "      <th>0</th>\n",
              "      <td>2695568</td>\n",
              "      <td>1</td>\n",
              "      <td>1</td>\n",
              "      <td>1</td>\n",
              "      <td>1</td>\n",
              "      <td>0</td>\n",
              "      <td>1</td>\n",
              "      <td>2</td>\n",
              "      <td>59.575684</td>\n",
              "      <td>151.297456</td>\n",
              "    </tr>\n",
              "    <tr>\n",
              "      <th>1</th>\n",
              "      <td>2019481</td>\n",
              "      <td>2</td>\n",
              "      <td>1</td>\n",
              "      <td>2</td>\n",
              "      <td>2</td>\n",
              "      <td>0</td>\n",
              "      <td>1</td>\n",
              "      <td>1</td>\n",
              "      <td>59.576667</td>\n",
              "      <td>151.304719</td>\n",
              "    </tr>\n",
              "    <tr>\n",
              "      <th>2</th>\n",
              "      <td>2019452</td>\n",
              "      <td>3</td>\n",
              "      <td>1</td>\n",
              "      <td>3</td>\n",
              "      <td>2</td>\n",
              "      <td>0</td>\n",
              "      <td>1</td>\n",
              "      <td>1</td>\n",
              "      <td>59.755574</td>\n",
              "      <td>151.477733</td>\n",
              "    </tr>\n",
              "    <tr>\n",
              "      <th>3</th>\n",
              "      <td>2576543</td>\n",
              "      <td>3</td>\n",
              "      <td>1</td>\n",
              "      <td>4</td>\n",
              "      <td>2</td>\n",
              "      <td>0</td>\n",
              "      <td>1</td>\n",
              "      <td>3</td>\n",
              "      <td>59.578351</td>\n",
              "      <td>151.291866</td>\n",
              "    </tr>\n",
              "    <tr>\n",
              "      <th>4</th>\n",
              "      <td>2779782</td>\n",
              "      <td>3</td>\n",
              "      <td>1</td>\n",
              "      <td>5</td>\n",
              "      <td>2</td>\n",
              "      <td>0</td>\n",
              "      <td>1</td>\n",
              "      <td>2</td>\n",
              "      <td>59.672974</td>\n",
              "      <td>150.597174</td>\n",
              "    </tr>\n",
              "  </tbody>\n",
              "</table>\n",
              "</div>\n",
              "      <button class=\"colab-df-convert\" onclick=\"convertToInteractive('df-4c2998ab-0d65-42ea-8bf6-e26cb3b51af4')\"\n",
              "              title=\"Convert this dataframe to an interactive table.\"\n",
              "              style=\"display:none;\">\n",
              "        \n",
              "  <svg xmlns=\"http://www.w3.org/2000/svg\" height=\"24px\"viewBox=\"0 0 24 24\"\n",
              "       width=\"24px\">\n",
              "    <path d=\"M0 0h24v24H0V0z\" fill=\"none\"/>\n",
              "    <path d=\"M18.56 5.44l.94 2.06.94-2.06 2.06-.94-2.06-.94-.94-2.06-.94 2.06-2.06.94zm-11 1L8.5 8.5l.94-2.06 2.06-.94-2.06-.94L8.5 2.5l-.94 2.06-2.06.94zm10 10l.94 2.06.94-2.06 2.06-.94-2.06-.94-.94-2.06-.94 2.06-2.06.94z\"/><path d=\"M17.41 7.96l-1.37-1.37c-.4-.4-.92-.59-1.43-.59-.52 0-1.04.2-1.43.59L10.3 9.45l-7.72 7.72c-.78.78-.78 2.05 0 2.83L4 21.41c.39.39.9.59 1.41.59.51 0 1.02-.2 1.41-.59l7.78-7.78 2.81-2.81c.8-.78.8-2.07 0-2.86zM5.41 20L4 18.59l7.72-7.72 1.47 1.35L5.41 20z\"/>\n",
              "  </svg>\n",
              "      </button>\n",
              "      \n",
              "  <style>\n",
              "    .colab-df-container {\n",
              "      display:flex;\n",
              "      flex-wrap:wrap;\n",
              "      gap: 12px;\n",
              "    }\n",
              "\n",
              "    .colab-df-convert {\n",
              "      background-color: #E8F0FE;\n",
              "      border: none;\n",
              "      border-radius: 50%;\n",
              "      cursor: pointer;\n",
              "      display: none;\n",
              "      fill: #1967D2;\n",
              "      height: 32px;\n",
              "      padding: 0 0 0 0;\n",
              "      width: 32px;\n",
              "    }\n",
              "\n",
              "    .colab-df-convert:hover {\n",
              "      background-color: #E2EBFA;\n",
              "      box-shadow: 0px 1px 2px rgba(60, 64, 67, 0.3), 0px 1px 3px 1px rgba(60, 64, 67, 0.15);\n",
              "      fill: #174EA6;\n",
              "    }\n",
              "\n",
              "    [theme=dark] .colab-df-convert {\n",
              "      background-color: #3B4455;\n",
              "      fill: #D2E3FC;\n",
              "    }\n",
              "\n",
              "    [theme=dark] .colab-df-convert:hover {\n",
              "      background-color: #434B5C;\n",
              "      box-shadow: 0px 1px 3px 1px rgba(0, 0, 0, 0.15);\n",
              "      filter: drop-shadow(0px 1px 2px rgba(0, 0, 0, 0.3));\n",
              "      fill: #FFFFFF;\n",
              "    }\n",
              "  </style>\n",
              "\n",
              "      <script>\n",
              "        const buttonEl =\n",
              "          document.querySelector('#df-4c2998ab-0d65-42ea-8bf6-e26cb3b51af4 button.colab-df-convert');\n",
              "        buttonEl.style.display =\n",
              "          google.colab.kernel.accessAllowed ? 'block' : 'none';\n",
              "\n",
              "        async function convertToInteractive(key) {\n",
              "          const element = document.querySelector('#df-4c2998ab-0d65-42ea-8bf6-e26cb3b51af4');\n",
              "          const dataTable =\n",
              "            await google.colab.kernel.invokeFunction('convertToInteractive',\n",
              "                                                     [key], {});\n",
              "          if (!dataTable) return;\n",
              "\n",
              "          const docLinkHtml = 'Like what you see? Visit the ' +\n",
              "            '<a target=\"_blank\" href=https://colab.research.google.com/notebooks/data_table.ipynb>data table notebook</a>'\n",
              "            + ' to learn more about interactive tables.';\n",
              "          element.innerHTML = '';\n",
              "          dataTable['output_type'] = 'display_data';\n",
              "          await google.colab.output.renderOutput(dataTable, element);\n",
              "          const docLink = document.createElement('div');\n",
              "          docLink.innerHTML = docLinkHtml;\n",
              "          element.appendChild(docLink);\n",
              "        }\n",
              "      </script>\n",
              "    </div>\n",
              "  </div>\n",
              "  "
            ]
          },
          "metadata": {},
          "execution_count": 21
        }
      ]
    },
    {
      "cell_type": "code",
      "source": [
        "training_value = new_df['dead_count']\n",
        "training_point = new_df.drop('dead_count', axis ='columns')"
      ],
      "metadata": {
        "id": "pGWYwMfqVsKl"
      },
      "execution_count": null,
      "outputs": []
    },
    {
      "cell_type": "code",
      "source": [
        "from sklearn.ensemble import RandomForestClassifier\n",
        "randomforest = RandomForestClassifier(random_state=0, n_jobs=-1)"
      ],
      "metadata": {
        "id": "TlZWMGUjV9IX"
      },
      "execution_count": null,
      "outputs": []
    },
    {
      "cell_type": "code",
      "source": [
        "model = randomforest.fit(training_point,training_value)"
      ],
      "metadata": {
        "id": "v4orgYcMWIjZ"
      },
      "execution_count": null,
      "outputs": []
    },
    {
      "cell_type": "code",
      "source": [
        "importances = model.feature_importances_\n",
        "importances"
      ],
      "metadata": {
        "colab": {
          "base_uri": "https://localhost:8080/"
        },
        "id": "6AdtWv7vXbKv",
        "outputId": "0aa5489e-ed77-4a6e-8847-82474bdd5a4a"
      },
      "execution_count": null,
      "outputs": [
        {
          "output_type": "execute_result",
          "data": {
            "text/plain": [
              "array([0.02700399, 0.00651352, 0.00861021, 0.01055768, 0.68067528,\n",
              "       0.1826588 , 0.02424394, 0.03061619, 0.02912038])"
            ]
          },
          "metadata": {},
          "execution_count": 28
        }
      ]
    },
    {
      "cell_type": "code",
      "source": [
        "from sklearn.feature_selection import SelectFromModel\n",
        "selector = SelectFromModel(randomforest,threshold=0.02)"
      ],
      "metadata": {
        "id": "NoG5UYtdXhl9"
      },
      "execution_count": null,
      "outputs": []
    },
    {
      "cell_type": "code",
      "source": [
        "features_important = selector.fit_transform(training_point,training_value)"
      ],
      "metadata": {
        "id": "jjoUVDEcXrlg"
      },
      "execution_count": null,
      "outputs": []
    },
    {
      "cell_type": "code",
      "source": [
        "features_important"
      ],
      "metadata": {
        "colab": {
          "base_uri": "https://localhost:8080/"
        },
        "id": "pApNVQSJXvXj",
        "outputId": "0f210f18-4520-4e68-a359-7a5fafbb6002"
      },
      "execution_count": null,
      "outputs": [
        {
          "output_type": "execute_result",
          "data": {
            "text/plain": [
              "array([[2.69556800e+06, 1.00000000e+00, 1.00000000e+00, 2.00000000e+00,\n",
              "        5.95756840e+01, 1.51297456e+02],\n",
              "       [2.01948100e+06, 2.00000000e+00, 1.00000000e+00, 1.00000000e+00,\n",
              "        5.95766670e+01, 1.51304719e+02],\n",
              "       [2.01945200e+06, 2.00000000e+00, 1.00000000e+00, 1.00000000e+00,\n",
              "        5.97555740e+01, 1.51477733e+02],\n",
              "       ...,\n",
              "       [2.02026400e+06, 2.00000000e+00, 3.00000000e+00, 3.00000000e+00,\n",
              "        5.95632530e+01, 1.50904707e+02],\n",
              "       [2.02030200e+06, 2.00000000e+00, 1.00000000e+00, 3.00000000e+00,\n",
              "        5.95744010e+01, 1.50815485e+02],\n",
              "       [2.02032500e+06, 2.00000000e+00, 1.00000000e+00, 2.00000000e+00,\n",
              "        5.95733470e+01, 1.50808114e+02]])"
            ]
          },
          "metadata": {},
          "execution_count": 32
        }
      ]
    },
    {
      "cell_type": "code",
      "source": [
        "from sklearn.model_selection import train_test_split"
      ],
      "metadata": {
        "id": "tLTiVwrbX1GU"
      },
      "execution_count": null,
      "outputs": []
    },
    {
      "cell_type": "code",
      "source": [
        "x_train, x_test, y_train, y_test=train_test_split(features_important, training_value, test_size=0.2)"
      ],
      "metadata": {
        "id": "08Re4er7X3Rt"
      },
      "execution_count": null,
      "outputs": []
    },
    {
      "cell_type": "code",
      "source": [
        "model = randomforest.fit(x_train, y_train)"
      ],
      "metadata": {
        "id": "kPsqHqsqX7zB"
      },
      "execution_count": null,
      "outputs": []
    },
    {
      "cell_type": "code",
      "source": [
        "test_predictions_randomforest = randomforest.predict(x_test)"
      ],
      "metadata": {
        "id": "v_qRipvjX9lN"
      },
      "execution_count": null,
      "outputs": []
    },
    {
      "cell_type": "code",
      "source": [
        "import matplotlib.pyplot as plt"
      ],
      "metadata": {
        "id": "sLj7xv_jYCE5"
      },
      "execution_count": null,
      "outputs": []
    },
    {
      "cell_type": "code",
      "source": [
        "plt.figure(figsize=(7, 7))\n",
        "plt.scatter(y_test, test_predictions_randomforest)\n",
        "plt.scatter(y_test, test_predictions_randomforest) # рисуем точки, соответствущие парам настоящее значение - прогноз\n",
        "plt.plot([0, max(y_test)], [0, max(test_predictions_randomforest)])  # рисуем прямую, на которой предсказания и настоящие значения совпадают\n",
        "plt.xlabel('Настоящее состояние смерти', fontsize=20)\n",
        "plt.ylabel('Предсказанное состояние смерти', fontsize=20);"
      ],
      "metadata": {
        "colab": {
          "base_uri": "https://localhost:8080/",
          "height": 451
        },
        "id": "4E5njvStX_sg",
        "outputId": "f1e69316-697b-4cbd-c642-3703b638dfe1"
      },
      "execution_count": null,
      "outputs": [
        {
          "output_type": "display_data",
          "data": {
            "text/plain": [
              "<Figure size 504x504 with 1 Axes>"
            ],
            "image/png": "[encoded data removed]"
          },
          "metadata": {
            "needs_background": "light"
          }
        }
      ]
    },
    {
      "cell_type": "code",
      "source": [
        "!git config --global user.email \"zabara@2388@gmail.com\"\n",
        "!git config --global user.name \"Plluxury\"\n",
        "\n",
        "!git branch -mv origin master"
      ],
      "metadata": {
        "colab": {
          "base_uri": "https://localhost:8080/"
        },
        "id": "_RZ0ry4QY5Wi",
        "outputId": "4a7e5ca8-be43-4949-e359-8eb4fbe833f3"
      },
      "execution_count": null,
      "outputs": [
        {
          "output_type": "stream",
          "name": "stdout",
          "text": [
            "error: refname refs/heads/origin not found\n",
            "fatal: Branch rename failed\n"
          ]
        }
      ]
    }
  ]
}